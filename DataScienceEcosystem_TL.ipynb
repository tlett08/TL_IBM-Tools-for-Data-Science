{
 "cells": [
  {
   "cell_type": "markdown",
   "id": "54bc2828-da20-4358-823a-69d9dab749da",
   "metadata": {},
   "source": [
    "*#Exercise 2: Create markdown cell with title of the notebook*\n",
    "\n",
    "# Data Science Tools and Ecosystem\n"
   ]
  },
  {
   "cell_type": "markdown",
   "id": "8cb6f91f-377f-4d1d-8994-39d6d0cf8bd4",
   "metadata": {},
   "source": [
    "*#Exercise 3 - Create a markdown cell for an introduction*\n",
    "\n",
    "In this notebook, Data Science Tools and Ecosystem are summarized."
   ]
  },
  {
   "cell_type": "markdown",
   "id": "6c265609-6d38-432d-b574-8379465b3f14",
   "metadata": {},
   "source": [
    "*#Exercise 10 - Insert a markdown cell to list Objectives*\n",
    "\n",
    "**Objectives:**\n",
    "* List popular languages for Data Science\n",
    "* List commonly used libraries used in Data Science\n",
    "* List commonly used Data Science tools\n",
    "* Evaluate basic math expressions using Python"
   ]
  },
  {
   "cell_type": "markdown",
   "id": "c4461274-f3bd-45c9-8518-a603689f4c74",
   "metadata": {},
   "source": [
    "\n",
    "*#Exercise 11 - Create a markdown cell to indicate the Author's name*\n",
    "\n",
    "## Author\n",
    "Tony Lett\n",
    "\n"
   ]
  },
  {
   "cell_type": "markdown",
   "id": "84fe7ae3-fbe5-4cc6-8a6a-bfa116bc7cc1",
   "metadata": {},
   "source": [
    "*#Exercise 4 - Create a markdown cell to list data science languages*\n",
    "\n",
    "Some of the popular languages that Data Scientists use are:\n",
    "1. Python\n",
    "2. R\n",
    "3. C++"
   ]
  },
  {
   "cell_type": "markdown",
   "id": "212feeb2-8b05-446d-add2-893ac55dbf0d",
   "metadata": {},
   "source": [
    "*#Exercise 5 - Create a markdown cell to list data science libraries*\n",
    "\n",
    "Some of the commonly used libraries used by Data Scientists include:\n",
    "1. Pandas\n",
    "2. Matplotlib\n",
    "3. SciPy"
   ]
  },
  {
   "cell_type": "markdown",
   "id": "6dd74477-c172-407d-a7f8-2387d98bd940",
   "metadata": {},
   "source": [
    "*#Exercise 6 - Create a markdown cell with a table of Data Science tools*\n",
    "\n",
    "|Data Science Tools|\n",
    "|------------------|\n",
    "|Jupyter|\n",
    "|Apache Zeppelin|\n",
    "|R Studio|"
   ]
  },
  {
   "cell_type": "markdown",
   "id": "b8ce6a29-79be-4699-8e1b-7cdcd46676c8",
   "metadata": {},
   "source": [
    "*#Exercise 7 - Create a markdown cell introducing arithmetic expression examples*\n",
    "\n",
    "### Below are a few examples of evaluating arithmetic expressions in Python."
   ]
  },
  {
   "cell_type": "code",
   "execution_count": 11,
   "id": "8f48a333-044a-4bb9-97b4-9a99df4f6ac1",
   "metadata": {},
   "outputs": [
    {
     "data": {
      "text/plain": [
       "17"
      ]
     },
     "execution_count": 11,
     "metadata": {},
     "output_type": "execute_result"
    }
   ],
   "source": [
    "#Exercise 8 - Create a code cell to multiply and add numbers\n",
    "\n",
    "## This is a simple arithmetic expression to multiply then add integers.\n",
    "\n",
    "(3*4)+5"
   ]
  },
  {
   "cell_type": "code",
   "execution_count": 13,
   "id": "c4069bd3-0897-45e9-8394-1e4c7b02ed5b",
   "metadata": {},
   "outputs": [
    {
     "data": {
      "text/plain": [
       "3.3333333333333335"
      ]
     },
     "execution_count": 13,
     "metadata": {},
     "output_type": "execute_result"
    }
   ],
   "source": [
    "#Exercise 9 - Create a code cell to convert minutes to hours\n",
    "\n",
    "## This will convert 200 minutes to hours by dividing by 60.\n",
    "\n",
    "200/60"
   ]
  },
  {
   "cell_type": "markdown",
   "id": "2b7089e5-bbab-4b67-b603-e52bde422542",
   "metadata": {},
   "source": []
  }
 ],
 "metadata": {
  "kernelspec": {
   "display_name": "Python 3 (ipykernel)",
   "language": "python",
   "name": "python3"
  },
  "language_info": {
   "codemirror_mode": {
    "name": "ipython",
    "version": 3
   },
   "file_extension": ".py",
   "mimetype": "text/x-python",
   "name": "python",
   "nbconvert_exporter": "python",
   "pygments_lexer": "ipython3",
   "version": "3.12.4"
  }
 },
 "nbformat": 4,
 "nbformat_minor": 5
}
